{
 "cells": [
  {
   "cell_type": "code",
   "execution_count": 2,
   "id": "f208689f-2792-44d9-af65-8cbcb331f1a4",
   "metadata": {},
   "outputs": [],
   "source": [
    "import pandas as pd\n",
    "import numpy as np"
   ]
  },
  {
   "cell_type": "code",
   "execution_count": 4,
   "id": "257890aa-de2b-446a-9ee6-a1e89ff2dfbf",
   "metadata": {
    "scrolled": true
   },
   "outputs": [
    {
     "name": "stdout",
     "output_type": "stream",
     "text": [
      "Collecting yfinance\n",
      "  Downloading yfinance-0.2.54-py2.py3-none-any.whl.metadata (5.8 kB)\n",
      "Requirement already satisfied: pandas>=1.3.0 in c:\\users\\nevo\\miniconda3\\envs\\tf\\lib\\site-packages (from yfinance) (2.2.2)\n",
      "Requirement already satisfied: numpy>=1.16.5 in c:\\users\\nevo\\miniconda3\\envs\\tf\\lib\\site-packages (from yfinance) (1.26.3)\n",
      "Requirement already satisfied: requests>=2.31 in c:\\users\\nevo\\miniconda3\\envs\\tf\\lib\\site-packages (from yfinance) (2.31.0)\n",
      "Collecting multitasking>=0.0.7 (from yfinance)\n",
      "  Using cached multitasking-0.0.11-py3-none-any.whl.metadata (5.5 kB)\n",
      "Requirement already satisfied: platformdirs>=2.0.0 in c:\\users\\nevo\\miniconda3\\envs\\tf\\lib\\site-packages (from yfinance) (4.3.6)\n",
      "Requirement already satisfied: pytz>=2022.5 in c:\\users\\nevo\\miniconda3\\envs\\tf\\lib\\site-packages (from yfinance) (2024.1)\n",
      "Collecting frozendict>=2.3.4 (from yfinance)\n",
      "  Downloading frozendict-2.4.6-cp310-cp310-win_amd64.whl.metadata (23 kB)\n",
      "Collecting peewee>=3.16.2 (from yfinance)\n",
      "  Using cached peewee-3.17.9.tar.gz (3.0 MB)\n",
      "  Installing build dependencies: started\n",
      "  Installing build dependencies: still running...\n",
      "  Installing build dependencies: finished with status 'done'\n",
      "  Getting requirements to build wheel: started\n",
      "  Getting requirements to build wheel: finished with status 'done'\n",
      "  Preparing metadata (pyproject.toml): started\n",
      "  Preparing metadata (pyproject.toml): finished with status 'done'\n",
      "Requirement already satisfied: beautifulsoup4>=4.11.1 in c:\\users\\nevo\\miniconda3\\envs\\tf\\lib\\site-packages (from yfinance) (4.13.3)\n",
      "Requirement already satisfied: soupsieve>1.2 in c:\\users\\nevo\\miniconda3\\envs\\tf\\lib\\site-packages (from beautifulsoup4>=4.11.1->yfinance) (2.6)\n",
      "Requirement already satisfied: typing-extensions>=4.0.0 in c:\\users\\nevo\\miniconda3\\envs\\tf\\lib\\site-packages (from beautifulsoup4>=4.11.1->yfinance) (4.9.0)\n",
      "Requirement already satisfied: python-dateutil>=2.8.2 in c:\\users\\nevo\\miniconda3\\envs\\tf\\lib\\site-packages (from pandas>=1.3.0->yfinance) (2.9.0.post0)\n",
      "Requirement already satisfied: tzdata>=2022.7 in c:\\users\\nevo\\miniconda3\\envs\\tf\\lib\\site-packages (from pandas>=1.3.0->yfinance) (2024.1)\n",
      "Requirement already satisfied: charset-normalizer<4,>=2 in c:\\users\\nevo\\miniconda3\\envs\\tf\\lib\\site-packages (from requests>=2.31->yfinance) (2.0.4)\n",
      "Requirement already satisfied: idna<4,>=2.5 in c:\\users\\nevo\\miniconda3\\envs\\tf\\lib\\site-packages (from requests>=2.31->yfinance) (3.4)\n",
      "Requirement already satisfied: urllib3<3,>=1.21.1 in c:\\users\\nevo\\miniconda3\\envs\\tf\\lib\\site-packages (from requests>=2.31->yfinance) (2.1.0)\n",
      "Requirement already satisfied: certifi>=2017.4.17 in c:\\users\\nevo\\miniconda3\\envs\\tf\\lib\\site-packages (from requests>=2.31->yfinance) (2024.2.2)\n",
      "Requirement already satisfied: six>=1.5 in c:\\users\\nevo\\miniconda3\\envs\\tf\\lib\\site-packages (from python-dateutil>=2.8.2->pandas>=1.3.0->yfinance) (1.16.0)\n",
      "Downloading yfinance-0.2.54-py2.py3-none-any.whl (108 kB)\n",
      "   ---------------------------------------- 0.0/108.7 kB ? eta -:--:--\n",
      "   --- ------------------------------------ 10.2/108.7 kB ? eta -:--:--\n",
      "   --- ------------------------------------ 10.2/108.7 kB ? eta -:--:--\n",
      "   ---------------------- ---------------- 61.4/108.7 kB 469.7 kB/s eta 0:00:01\n",
      "   ---------------------- ---------------- 61.4/108.7 kB 469.7 kB/s eta 0:00:01\n",
      "   --------------------------------- ----- 92.2/108.7 kB 374.1 kB/s eta 0:00:01\n",
      "   ----------------------------------- -- 102.4/108.7 kB 368.6 kB/s eta 0:00:01\n",
      "   ----------------------------------- -- 102.4/108.7 kB 368.6 kB/s eta 0:00:01\n",
      "   ----------------------------------- -- 102.4/108.7 kB 368.6 kB/s eta 0:00:01\n",
      "   ----------------------------------- -- 102.4/108.7 kB 368.6 kB/s eta 0:00:01\n",
      "   ----------------------------------- -- 102.4/108.7 kB 368.6 kB/s eta 0:00:01\n",
      "   ----------------------------------- -- 102.4/108.7 kB 368.6 kB/s eta 0:00:01\n",
      "   ----------------------------------- -- 102.4/108.7 kB 368.6 kB/s eta 0:00:01\n",
      "   -------------------------------------- 108.7/108.7 kB 175.2 kB/s eta 0:00:00\n",
      "Downloading frozendict-2.4.6-cp310-cp310-win_amd64.whl (37 kB)\n",
      "Using cached multitasking-0.0.11-py3-none-any.whl (8.5 kB)\n",
      "Building wheels for collected packages: peewee\n",
      "  Building wheel for peewee (pyproject.toml): started\n",
      "  Building wheel for peewee (pyproject.toml): finished with status 'done'\n",
      "  Created wheel for peewee: filename=peewee-3.17.9-py3-none-any.whl size=139096 sha256=b904750fc86f8688e61edfaabfbea5d427f143198f85fd48e6acf97d1720142e\n",
      "  Stored in directory: c:\\users\\nevo\\appdata\\local\\pip\\cache\\wheels\\fd\\fd\\5e\\90b9ec95da4fd6c96237b580ce74f89d6bdea547ad151ab5f4\n",
      "Successfully built peewee\n",
      "Installing collected packages: peewee, multitasking, frozendict, yfinance\n",
      "Successfully installed frozendict-2.4.6 multitasking-0.0.11 peewee-3.17.9 yfinance-0.2.54\n"
     ]
    }
   ],
   "source": [
    "!pip install yfinance"
   ]
  },
  {
   "cell_type": "code",
   "execution_count": 5,
   "id": "d65e942b-0775-412c-93e2-6489cbc01b8a",
   "metadata": {},
   "outputs": [],
   "source": [
    "import yfinance as yf"
   ]
  },
  {
   "cell_type": "code",
   "execution_count": 6,
   "id": "bcb50cac-c0ab-49eb-b8b2-e92828221e4a",
   "metadata": {},
   "outputs": [],
   "source": [
    "# Define the time period\n",
    "start_date = \"2019-01-01\"\n",
    "end_date = \"2024-01-01\""
   ]
  },
  {
   "cell_type": "code",
   "execution_count": 4,
   "id": "a592ebd4-5e6a-41cd-829d-d75c85ab6d49",
   "metadata": {},
   "outputs": [
    {
     "name": "stderr",
     "output_type": "stream",
     "text": [
      "[*********************100%***********************]  7 of 7 completed\n",
      "\n",
      "7 Failed downloads:\n",
      "['NVDA', 'AMZN']: ReadTimeout(ReadTimeoutError(\"HTTPSConnectionPool(host='query2.finance.yahoo.com', port=443): Read timed out. (read timeout=10)\"))\n",
      "['TSLA', 'GOOGL', 'MSFT', 'AAPL']: YFRateLimitError('Too Many Requests. Rate limited. Try after a while.')\n",
      "['META']: ReadTimeout(ReadTimeoutError(\"HTTPSConnectionPool(host='query1.finance.yahoo.com', port=443): Read timed out. (read timeout=10)\"))\n"
     ]
    }
   ],
   "source": [
    "# Define the tickers for the MAG7 stocks\n",
    "tickers = [\"MSFT\", \"AAPL\", \"GOOGL\", \"AMZN\", \"META\", \"NVDA\", \"TSLA\"]\n",
    "\n",
    "# Download data\n",
    "data = yf.download(tickers, start=start_date, end=end_date)[\"Close\"]"
   ]
  },
  {
   "cell_type": "code",
   "execution_count": null,
   "id": "44114ca7-468d-4625-aa68-a9c876e25956",
   "metadata": {},
   "outputs": [],
   "source": [
    "# Save to CSV\n",
    "file_path = \"MAG7_closing_prices_2019_2024.csv\"\n",
    "data.to_csv(file_path)"
   ]
  },
  {
   "cell_type": "code",
   "execution_count": 7,
   "id": "454ce533-29a8-4be9-8179-bc7dbc549b6c",
   "metadata": {},
   "outputs": [
    {
     "data": {
      "text/html": [
       "<div>\n",
       "<style scoped>\n",
       "    .dataframe tbody tr th:only-of-type {\n",
       "        vertical-align: middle;\n",
       "    }\n",
       "\n",
       "    .dataframe tbody tr th {\n",
       "        vertical-align: top;\n",
       "    }\n",
       "\n",
       "    .dataframe thead th {\n",
       "        text-align: right;\n",
       "    }\n",
       "</style>\n",
       "<table border=\"1\" class=\"dataframe\">\n",
       "  <thead>\n",
       "    <tr style=\"text-align: right;\">\n",
       "      <th>Ticker</th>\n",
       "      <th>AAPL</th>\n",
       "      <th>AMZN</th>\n",
       "      <th>GOOGL</th>\n",
       "      <th>META</th>\n",
       "      <th>MSFT</th>\n",
       "      <th>NVDA</th>\n",
       "      <th>TSLA</th>\n",
       "    </tr>\n",
       "    <tr>\n",
       "      <th>Date</th>\n",
       "      <th></th>\n",
       "      <th></th>\n",
       "      <th></th>\n",
       "      <th></th>\n",
       "      <th></th>\n",
       "      <th></th>\n",
       "      <th></th>\n",
       "    </tr>\n",
       "  </thead>\n",
       "  <tbody>\n",
       "    <tr>\n",
       "      <th>2019-01-02</th>\n",
       "      <td>37.708595</td>\n",
       "      <td>76.956497</td>\n",
       "      <td>52.543530</td>\n",
       "      <td>135.163666</td>\n",
       "      <td>95.310539</td>\n",
       "      <td>3.378090</td>\n",
       "      <td>20.674667</td>\n",
       "    </tr>\n",
       "    <tr>\n",
       "      <th>2019-01-03</th>\n",
       "      <td>33.952545</td>\n",
       "      <td>75.014000</td>\n",
       "      <td>51.088303</td>\n",
       "      <td>131.238678</td>\n",
       "      <td>91.804260</td>\n",
       "      <td>3.173996</td>\n",
       "      <td>20.024000</td>\n",
       "    </tr>\n",
       "    <tr>\n",
       "      <th>2019-01-04</th>\n",
       "      <td>35.401958</td>\n",
       "      <td>78.769501</td>\n",
       "      <td>53.708797</td>\n",
       "      <td>137.425049</td>\n",
       "      <td>96.074005</td>\n",
       "      <td>3.377347</td>\n",
       "      <td>21.179333</td>\n",
       "    </tr>\n",
       "    <tr>\n",
       "      <th>2019-01-07</th>\n",
       "      <td>35.323154</td>\n",
       "      <td>81.475502</td>\n",
       "      <td>53.601692</td>\n",
       "      <td>137.524658</td>\n",
       "      <td>96.196541</td>\n",
       "      <td>3.556145</td>\n",
       "      <td>22.330667</td>\n",
       "    </tr>\n",
       "    <tr>\n",
       "      <th>2019-01-08</th>\n",
       "      <td>35.996529</td>\n",
       "      <td>82.829002</td>\n",
       "      <td>54.072487</td>\n",
       "      <td>141.987610</td>\n",
       "      <td>96.894028</td>\n",
       "      <td>3.467613</td>\n",
       "      <td>22.356667</td>\n",
       "    </tr>\n",
       "  </tbody>\n",
       "</table>\n",
       "</div>"
      ],
      "text/plain": [
       "Ticker           AAPL       AMZN      GOOGL        META       MSFT      NVDA  \\\n",
       "Date                                                                           \n",
       "2019-01-02  37.708595  76.956497  52.543530  135.163666  95.310539  3.378090   \n",
       "2019-01-03  33.952545  75.014000  51.088303  131.238678  91.804260  3.173996   \n",
       "2019-01-04  35.401958  78.769501  53.708797  137.425049  96.074005  3.377347   \n",
       "2019-01-07  35.323154  81.475502  53.601692  137.524658  96.196541  3.556145   \n",
       "2019-01-08  35.996529  82.829002  54.072487  141.987610  96.894028  3.467613   \n",
       "\n",
       "Ticker           TSLA  \n",
       "Date                   \n",
       "2019-01-02  20.674667  \n",
       "2019-01-03  20.024000  \n",
       "2019-01-04  21.179333  \n",
       "2019-01-07  22.330667  \n",
       "2019-01-08  22.356667  "
      ]
     },
     "execution_count": 7,
     "metadata": {},
     "output_type": "execute_result"
    }
   ],
   "source": [
    "data.head()"
   ]
  },
  {
   "cell_type": "code",
   "execution_count": 1,
   "id": "b7e7263b-aac3-4c39-afe4-d3363d5dd36f",
   "metadata": {},
   "outputs": [
    {
     "name": "stdout",
     "output_type": "stream",
     "text": [
      "Collecting fredapi\n",
      "  Downloading fredapi-0.5.2-py3-none-any.whl.metadata (5.0 kB)\n",
      "Requirement already satisfied: pandas in c:\\users\\nevo\\miniconda3\\envs\\tf\\lib\\site-packages (from fredapi) (2.2.2)\n",
      "Requirement already satisfied: numpy>=1.22.4 in c:\\users\\nevo\\miniconda3\\envs\\tf\\lib\\site-packages (from pandas->fredapi) (1.26.3)\n",
      "Requirement already satisfied: python-dateutil>=2.8.2 in c:\\users\\nevo\\miniconda3\\envs\\tf\\lib\\site-packages (from pandas->fredapi) (2.9.0.post0)\n",
      "Requirement already satisfied: pytz>=2020.1 in c:\\users\\nevo\\miniconda3\\envs\\tf\\lib\\site-packages (from pandas->fredapi) (2024.1)\n",
      "Requirement already satisfied: tzdata>=2022.7 in c:\\users\\nevo\\miniconda3\\envs\\tf\\lib\\site-packages (from pandas->fredapi) (2024.1)\n",
      "Requirement already satisfied: six>=1.5 in c:\\users\\nevo\\miniconda3\\envs\\tf\\lib\\site-packages (from python-dateutil>=2.8.2->pandas->fredapi) (1.16.0)\n",
      "Downloading fredapi-0.5.2-py3-none-any.whl (11 kB)\n",
      "Installing collected packages: fredapi\n",
      "Successfully installed fredapi-0.5.2\n"
     ]
    }
   ],
   "source": [
    "!pip install fredapi"
   ]
  },
  {
   "cell_type": "code",
   "execution_count": 7,
   "id": "4fbb4c9b-a337-4c5d-bebf-7282e239f7be",
   "metadata": {},
   "outputs": [],
   "source": [
    "from fredapi import Fred"
   ]
  },
  {
   "cell_type": "code",
   "execution_count": 10,
   "id": "67fcee9f-bf98-45e3-b44e-89a96d267925",
   "metadata": {},
   "outputs": [],
   "source": [
    "# Replace with your FRED API Key\n",
    "FRED_API_KEY = \"9836969d1a21f9439b32b2446a2a402f\"\n",
    "fred = Fred(api_key=FRED_API_KEY)"
   ]
  },
  {
   "cell_type": "code",
   "execution_count": 11,
   "id": "bc68dc3f-863a-4575-aa6d-3eb7db1acc28",
   "metadata": {},
   "outputs": [],
   "source": [
    "# Define the macroeconomic indicators to download\n",
    "indicators = {\n",
    "    \"VIX\": \"VIXCLS\",  # CBOE Volatility Index\n",
    "    \"10Y_Treasury_Yield\": \"DGS10\",  # 10-Year Treasury Constant Maturity Rate\n",
    "    \"Inflation_CPI\": \"CPIAUCSL\"  # Consumer Price Index (All Urban Consumers)\n",
    "}\n",
    "\n",
    "# Fetch data from FRED\n",
    "data = {}\n",
    "for key, series_id in indicators.items():\n",
    "    data[key] = fred.get_series(series_id, start_date, end_date)"
   ]
  },
  {
   "cell_type": "code",
   "execution_count": 12,
   "id": "bf018907-f72e-4b66-9440-84e8797fd19a",
   "metadata": {},
   "outputs": [
    {
     "data": {
      "text/html": [
       "<div>\n",
       "<style scoped>\n",
       "    .dataframe tbody tr th:only-of-type {\n",
       "        vertical-align: middle;\n",
       "    }\n",
       "\n",
       "    .dataframe tbody tr th {\n",
       "        vertical-align: top;\n",
       "    }\n",
       "\n",
       "    .dataframe thead th {\n",
       "        text-align: right;\n",
       "    }\n",
       "</style>\n",
       "<table border=\"1\" class=\"dataframe\">\n",
       "  <thead>\n",
       "    <tr style=\"text-align: right;\">\n",
       "      <th></th>\n",
       "      <th>VIX</th>\n",
       "      <th>10Y_Treasury_Yield</th>\n",
       "      <th>Inflation_CPI</th>\n",
       "    </tr>\n",
       "  </thead>\n",
       "  <tbody>\n",
       "    <tr>\n",
       "      <th>2019-01-01</th>\n",
       "      <td>NaN</td>\n",
       "      <td>NaN</td>\n",
       "      <td>252.561</td>\n",
       "    </tr>\n",
       "    <tr>\n",
       "      <th>2019-01-02</th>\n",
       "      <td>23.22</td>\n",
       "      <td>2.66</td>\n",
       "      <td>NaN</td>\n",
       "    </tr>\n",
       "    <tr>\n",
       "      <th>2019-01-03</th>\n",
       "      <td>25.45</td>\n",
       "      <td>2.56</td>\n",
       "      <td>NaN</td>\n",
       "    </tr>\n",
       "    <tr>\n",
       "      <th>2019-01-04</th>\n",
       "      <td>21.38</td>\n",
       "      <td>2.67</td>\n",
       "      <td>NaN</td>\n",
       "    </tr>\n",
       "    <tr>\n",
       "      <th>2019-01-07</th>\n",
       "      <td>21.40</td>\n",
       "      <td>2.70</td>\n",
       "      <td>NaN</td>\n",
       "    </tr>\n",
       "  </tbody>\n",
       "</table>\n",
       "</div>"
      ],
      "text/plain": [
       "              VIX  10Y_Treasury_Yield  Inflation_CPI\n",
       "2019-01-01    NaN                 NaN        252.561\n",
       "2019-01-02  23.22                2.66            NaN\n",
       "2019-01-03  25.45                2.56            NaN\n",
       "2019-01-04  21.38                2.67            NaN\n",
       "2019-01-07  21.40                2.70            NaN"
      ]
     },
     "execution_count": 12,
     "metadata": {},
     "output_type": "execute_result"
    }
   ],
   "source": [
    "# Convert to DataFrame\n",
    "df = pd.DataFrame(data)\n",
    "\n",
    "# Display the first few rows\n",
    "df.head()"
   ]
  },
  {
   "cell_type": "code",
   "execution_count": 13,
   "id": "1e5944a0-fd61-4c82-a1f5-e7a40a65bbc9",
   "metadata": {},
   "outputs": [],
   "source": [
    "# Save to CSV\n",
    "df.to_csv(\"macroeconomic_data_2019_2024.csv\", index_label=\"Date\")"
   ]
  },
  {
   "cell_type": "code",
   "execution_count": null,
   "id": "2b02dee8-0c72-4640-9d25-2082cfb5ecba",
   "metadata": {},
   "outputs": [],
   "source": []
  },
  {
   "cell_type": "code",
   "execution_count": null,
   "id": "70d36890-8581-4ccd-ac09-206f1f85efd9",
   "metadata": {},
   "outputs": [],
   "source": []
  }
 ],
 "metadata": {
  "kernelspec": {
   "display_name": "Python 3 (ipykernel)",
   "language": "python",
   "name": "python3"
  },
  "language_info": {
   "codemirror_mode": {
    "name": "ipython",
    "version": 3
   },
   "file_extension": ".py",
   "mimetype": "text/x-python",
   "name": "python",
   "nbconvert_exporter": "python",
   "pygments_lexer": "ipython3",
   "version": "3.10.13"
  }
 },
 "nbformat": 4,
 "nbformat_minor": 5
}
